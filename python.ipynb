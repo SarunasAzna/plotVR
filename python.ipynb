{
 "cells": [
  {
   "cell_type": "code",
   "execution_count": 1,
   "metadata": {
    "collapsed": false
   },
   "outputs": [],
   "source": [
    "from sklearn import datasets\n",
    "import json\n",
    "import numpy as np\n",
    "import urllib, urllib2"
   ]
  },
  {
   "cell_type": "code",
   "execution_count": 10,
   "metadata": {
    "collapsed": false
   },
   "outputs": [],
   "source": [
    "def plotVR(x, col, host=\"http://localhost:2908\"):\n",
    "    data = np.hstack((x[:,:3],col.reshape((-1,1))))\n",
    "    # todo: remove NAs, center and scale...\n",
    "    data_json = json.dumps({'data': data.tolist(),'speed': 0}, allow_nan=False)\n",
    "    urllib2.urlopen(host, bytearray(data_json))\n",
    "\n",
    "iris = datasets.load_iris()\n",
    "plotVR(iris.data, iris.target)"
   ]
  },
  {
   "cell_type": "code",
   "execution_count": 3,
   "metadata": {
    "collapsed": false
   },
   "outputs": [],
   "source": [
    "iris.data.tolist()\n",
    "?urllib2.urlopen\n"
   ]
  },
  {
   "cell_type": "code",
   "execution_count": null,
   "metadata": {
    "collapsed": false
   },
   "outputs": [],
   "source": []
  }
 ],
 "metadata": {
  "kernelspec": {
   "display_name": "Python 2",
   "language": "python",
   "name": "python2"
  },
  "language_info": {
   "codemirror_mode": {
    "name": "ipython",
    "version": 2
   },
   "file_extension": ".py",
   "mimetype": "text/x-python",
   "name": "python",
   "nbconvert_exporter": "python",
   "pygments_lexer": "ipython2",
   "version": "2.7.10"
  }
 },
 "nbformat": 4,
 "nbformat_minor": 0
}
